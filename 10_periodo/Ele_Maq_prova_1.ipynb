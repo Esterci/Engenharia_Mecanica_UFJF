{
 "cells": [
  {
   "cell_type": "code",
   "execution_count": 1,
   "id": "animal-diagnosis",
   "metadata": {},
   "outputs": [],
   "source": [
    "import numpy as np \n",
    "import math as m\n",
    "import matplotlib.pyplot as plt\n",
    "\n",
    "def cel_to_kel(D):\n",
    "    K = D + 273.15\n",
    "    return K\n",
    "\n",
    "def kel_to_cel(K):\n",
    "    D = K - 273.15\n",
    "    return D\n",
    "\n",
    "def cal_to_joule(cal):\n",
    "    J = cal * 4.184\n",
    "    return J"
   ]
  },
  {
   "cell_type": "code",
   "execution_count": 11,
   "id": "potential-drink",
   "metadata": {},
   "outputs": [
    {
     "data": {
      "text/plain": [
       "19.329904127045047"
      ]
     },
     "execution_count": 11,
     "metadata": {},
     "output_type": "execute_result"
    }
   ],
   "source": [
    "phi = np.arctan(2*-80/(-75-125))/2\n",
    "m.degrees(phi)"
   ]
  },
  {
   "cell_type": "code",
   "execution_count": 9,
   "id": "suited-literacy",
   "metadata": {},
   "outputs": [
    {
     "name": "stdout",
     "output_type": "stream",
     "text": [
      "sigma1 = 153.06N, sigma2 = -103.06N\n"
     ]
    }
   ],
   "source": [
    "sigma1 = (-75+125)/2 + np.sqrt(((-75-125)/2)**2 + (-80)**2)\n",
    "sigma2 = (-75+125)/2 - np.sqrt(((-75-125)/2)**2 + (-80)**2)\n",
    "\n",
    "print('sigma1 = {:.2f}N, sigma2 = {:.2f}N'.format(sigma1,sigma2))"
   ]
  },
  {
   "cell_type": "code",
   "execution_count": 10,
   "id": "concrete-hypothesis",
   "metadata": {},
   "outputs": [
    {
     "name": "stdout",
     "output_type": "stream",
     "text": [
      "tal1 = 128.06N, tal2 = -128.06N\n"
     ]
    }
   ],
   "source": [
    "tal1 = + np.sqrt(((-75-125)/2)**2 + (-80)**2)\n",
    "tal2 = - np.sqrt(((-75-125)/2)**2 + (-80)**2)\n",
    "\n",
    "print('tal1 = {:.2f}N, tal2 = {:.2f}N'.format(tal1,tal2))"
   ]
  },
  {
   "cell_type": "code",
   "execution_count": 13,
   "id": "defined-technology",
   "metadata": {},
   "outputs": [
    {
     "data": {
      "text/plain": [
       "1.2297377388923256"
      ]
     },
     "execution_count": 13,
     "metadata": {},
     "output_type": "execute_result"
    }
   ],
   "source": [
    "Sy = 2.20632e+8 / 1e6\n",
    "F = 800\n",
    "d = 20e-3\n",
    "\n",
    "Mz = (120+25)*1e-3 *F\n",
    "Mx = 100*1e-3 *F\n",
    "sigma_x = 32*Mz/(np.pi*d**3)*1e-6\n",
    "tau = 16*Mx/(np.pi*d**3)*1e-6\n",
    "tau_max = ((sigma_x/2)**2 + tau**2)**0.5\n",
    "n = Sy/(2*tau_max)\n",
    "n"
   ]
  },
  {
   "cell_type": "code",
   "execution_count": 33,
   "id": "nutritional-seating",
   "metadata": {},
   "outputs": [],
   "source": [
    "C = 2450\n",
    "a = 0.25\n",
    "alpha = np.deg2rad(14.5)\n",
    "rp = 0.6875\n",
    "rc = 1.76/2\n",
    "mu_e = 0.12\n",
    "mu_d = 0.08\n",
    "p = 0.25\n",
    "theta = np.deg2rad(3.31)\n",
    "\n",
    "Tr_p = C*rp *((a*np.cos(alpha)+2*np.pi*rp*mu_e)/(2*np.pi*rp*np.cos(alpha)-a*mu_e)) + C*rc*mu_e\n",
    "Tr_o = C*rp *((a*np.cos(alpha)+2*np.pi*rp*mu_d)/(2*np.pi*rp*np.cos(alpha)-a*mu_d)) + C*rc*mu_d\n",
    "\n",
    "Tr_d_p = C*rp *((-a*np.cos(alpha)+2*np.pi*rp*mu_e)/(2*np.pi*rp*np.cos(alpha)+a*mu_e)) + C*rc*mu_e\n",
    "Tr_d_o = C*rp *((-a*np.cos(alpha)+2*np.pi*rp*mu_d)/(2*np.pi*rp*np.cos(alpha)+a*mu_d)) + C*rc*mu_d"
   ]
  },
  {
   "cell_type": "code",
   "execution_count": 34,
   "id": "3e87c8c3",
   "metadata": {},
   "outputs": [
    {
     "data": {
      "text/plain": [
       "567.1901685689055"
      ]
     },
     "execution_count": 34,
     "metadata": {},
     "output_type": "execute_result"
    }
   ],
   "source": [
    "Tr_p"
   ]
  },
  {
   "cell_type": "code",
   "execution_count": 35,
   "id": "8570ceed",
   "metadata": {},
   "outputs": [
    {
     "data": {
      "text/plain": [
       "410.2829622446658"
      ]
     },
     "execution_count": 35,
     "metadata": {},
     "output_type": "execute_result"
    }
   ],
   "source": [
    "Tr_o"
   ]
  },
  {
   "cell_type": "code",
   "execution_count": 36,
   "id": "c77daf4e",
   "metadata": {},
   "outputs": [
    {
     "data": {
      "text/plain": [
       "369.2199091798265"
      ]
     },
     "execution_count": 36,
     "metadata": {},
     "output_type": "execute_result"
    }
   ],
   "source": [
    "Tr_d_p"
   ]
  },
  {
   "cell_type": "code",
   "execution_count": 37,
   "id": "480ee42b",
   "metadata": {},
   "outputs": [
    {
     "data": {
      "text/plain": [
       "213.98243776596763"
      ]
     },
     "execution_count": 37,
     "metadata": {},
     "output_type": "execute_result"
    }
   ],
   "source": [
    "Tr_d_o"
   ]
  },
  {
   "cell_type": "code",
   "execution_count": 38,
   "id": "ea0650fa",
   "metadata": {},
   "outputs": [
    {
     "data": {
      "text/plain": [
       "0.056031084585065644"
      ]
     },
     "execution_count": 38,
     "metadata": {},
     "output_type": "execute_result"
    }
   ],
   "source": [
    "test = a*np.cos(alpha)/(2*np.pi*rp)\n",
    "test"
   ]
  },
  {
   "cell_type": "code",
   "execution_count": 39,
   "id": "580ea336",
   "metadata": {},
   "outputs": [],
   "source": [
    "def cotg(theta):\n",
    "    return np.cos(theta)/np.sin(theta)"
   ]
  },
  {
   "cell_type": "code",
   "execution_count": 40,
   "id": "c3b0c7c0",
   "metadata": {},
   "outputs": [
    {
     "data": {
      "text/plain": [
       "0.320626891217075"
      ]
     },
     "execution_count": 40,
     "metadata": {},
     "output_type": "execute_result"
    }
   ],
   "source": [
    "e = 1/((np.cos(alpha)+mu_d*cotg(alpha))/(np.cos(alpha)-mu_d*np.tan(alpha)) + mu_d*(rc/rp)*cotg(theta))\n",
    "e"
   ]
  },
  {
   "cell_type": "code",
   "execution_count": 41,
   "id": "966e119b",
   "metadata": {},
   "outputs": [
    {
     "data": {
      "text/plain": [
       "480.0"
      ]
     },
     "execution_count": 41,
     "metadata": {},
     "output_type": "execute_result"
    }
   ],
   "source": [
    "n = 120/p\n",
    "n"
   ]
  },
  {
   "cell_type": "code",
   "execution_count": 42,
   "id": "98b350c7",
   "metadata": {},
   "outputs": [
    {
     "data": {
      "text/plain": [
       "4.319734722936527"
      ]
     },
     "execution_count": 42,
     "metadata": {},
     "output_type": "execute_result"
    }
   ],
   "source": [
    "P_min = Tr_p * n /63025\n",
    "P_min"
   ]
  },
  {
   "cell_type": "code",
   "execution_count": null,
   "id": "14632635",
   "metadata": {},
   "outputs": [],
   "source": []
  }
 ],
 "metadata": {
  "kernelspec": {
   "display_name": "Python 3",
   "language": "python",
   "name": "python3"
  },
  "language_info": {
   "codemirror_mode": {
    "name": "ipython",
    "version": 3
   },
   "file_extension": ".py",
   "mimetype": "text/x-python",
   "name": "python",
   "nbconvert_exporter": "python",
   "pygments_lexer": "ipython3",
   "version": "3.8.8"
  }
 },
 "nbformat": 4,
 "nbformat_minor": 5
}
