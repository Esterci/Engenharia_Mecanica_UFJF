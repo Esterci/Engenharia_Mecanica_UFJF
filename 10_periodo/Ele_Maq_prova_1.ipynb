{
 "cells": [
  {
   "cell_type": "code",
   "execution_count": 1,
   "id": "animal-diagnosis",
   "metadata": {},
   "outputs": [],
   "source": [
    "import numpy as np \n",
    "import math as m\n",
    "import matplotlib.pyplot as plt\n",
    "\n",
    "def cel_to_kel(D):\n",
    "    K = D + 273.15\n",
    "    return K\n",
    "\n",
    "def kel_to_cel(K):\n",
    "    D = K - 273.15\n",
    "    return D\n",
    "\n",
    "def cal_to_joule(cal):\n",
    "    J = cal * 4.184\n",
    "    return J"
   ]
  },
  {
   "cell_type": "code",
   "execution_count": 11,
   "id": "potential-drink",
   "metadata": {},
   "outputs": [
    {
     "data": {
      "text/plain": [
       "19.329904127045047"
      ]
     },
     "execution_count": 11,
     "metadata": {},
     "output_type": "execute_result"
    }
   ],
   "source": [
    "phi = np.arctan(2*-80/(-75-125))/2\n",
    "m.degrees(phi)"
   ]
  },
  {
   "cell_type": "code",
   "execution_count": 9,
   "id": "suited-literacy",
   "metadata": {},
   "outputs": [
    {
     "name": "stdout",
     "output_type": "stream",
     "text": [
      "sigma1 = 153.06N, sigma2 = -103.06N\n"
     ]
    }
   ],
   "source": [
    "sigma1 = (-75+125)/2 + np.sqrt(((-75-125)/2)**2 + (-80)**2)\n",
    "sigma2 = (-75+125)/2 - np.sqrt(((-75-125)/2)**2 + (-80)**2)\n",
    "\n",
    "print('sigma1 = {:.2f}N, sigma2 = {:.2f}N'.format(sigma1,sigma2))"
   ]
  },
  {
   "cell_type": "code",
   "execution_count": 10,
   "id": "concrete-hypothesis",
   "metadata": {},
   "outputs": [
    {
     "name": "stdout",
     "output_type": "stream",
     "text": [
      "tal1 = 128.06N, tal2 = -128.06N\n"
     ]
    }
   ],
   "source": [
    "tal1 = + np.sqrt(((-75-125)/2)**2 + (-80)**2)\n",
    "tal2 = - np.sqrt(((-75-125)/2)**2 + (-80)**2)\n",
    "\n",
    "print('tal1 = {:.2f}N, tal2 = {:.2f}N'.format(tal1,tal2))"
   ]
  },
  {
   "cell_type": "code",
   "execution_count": 13,
   "id": "defined-technology",
   "metadata": {},
   "outputs": [
    {
     "data": {
      "text/plain": [
       "1.2297377388923256"
      ]
     },
     "execution_count": 13,
     "metadata": {},
     "output_type": "execute_result"
    }
   ],
   "source": [
    "Sy = 2.20632e+8 / 1e6\n",
    "F = 800\n",
    "d = 20e-3\n",
    "\n",
    "Mz = (120+25)*1e-3 *F\n",
    "Mx = 100*1e-3 *F\n",
    "sigma_x = 32*Mz/(np.pi*d**3)*1e-6\n",
    "tau = 16*Mx/(np.pi*d**3)*1e-6\n",
    "tau_max = ((sigma_x/2)**2 + tau**2)**0.5\n",
    "n = Sy/(2*tau_max)\n",
    "n"
   ]
  },
  {
   "cell_type": "code",
   "execution_count": null,
   "id": "nutritional-seating",
   "metadata": {},
   "outputs": [],
   "source": []
  }
 ],
 "metadata": {
  "kernelspec": {
   "display_name": "Python 3",
   "language": "python",
   "name": "python3"
  },
  "language_info": {
   "codemirror_mode": {
    "name": "ipython",
    "version": 3
   },
   "file_extension": ".py",
   "mimetype": "text/x-python",
   "name": "python",
   "nbconvert_exporter": "python",
   "pygments_lexer": "ipython3",
   "version": "3.7.6"
  }
 },
 "nbformat": 4,
 "nbformat_minor": 5
}
