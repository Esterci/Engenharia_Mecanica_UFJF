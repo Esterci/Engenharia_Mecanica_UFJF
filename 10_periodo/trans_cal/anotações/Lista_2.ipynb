{
 "cells": [
  {
   "cell_type": "code",
   "execution_count": 1,
   "id": "finished-reputation",
   "metadata": {},
   "outputs": [],
   "source": [
    "import numpy as np \n",
    "import math as m\n",
    "\n",
    "def cel_to_kel(D):\n",
    "    K = D + 273.15\n",
    "    return K\n",
    "\n",
    "def kel_to_cel(K):\n",
    "    D = K - 273.15\n",
    "    return D"
   ]
  },
  {
   "cell_type": "markdown",
   "id": "binary-custody",
   "metadata": {},
   "source": [
    "# Useful constants"
   ]
  },
  {
   "cell_type": "code",
   "execution_count": 2,
   "id": "latter-johns",
   "metadata": {},
   "outputs": [],
   "source": [
    "sigma = 5.67*10**(-8)"
   ]
  },
  {
   "cell_type": "markdown",
   "id": "solved-vision",
   "metadata": {},
   "source": [
    "# 2.4"
   ]
  },
  {
   "cell_type": "code",
   "execution_count": null,
   "id": "blond-speaker",
   "metadata": {},
   "outputs": [],
   "source": []
  }
 ],
 "metadata": {
  "kernelspec": {
   "display_name": "Python 3",
   "language": "python",
   "name": "python3"
  },
  "language_info": {
   "codemirror_mode": {
    "name": "ipython",
    "version": 3
   },
   "file_extension": ".py",
   "mimetype": "text/x-python",
   "name": "python",
   "nbconvert_exporter": "python",
   "pygments_lexer": "ipython3",
   "version": "3.7.6"
  }
 },
 "nbformat": 4,
 "nbformat_minor": 5
}
