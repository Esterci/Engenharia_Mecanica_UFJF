{
 "cells": [
  {
   "cell_type": "code",
   "execution_count": 2,
   "id": "be0281e4",
   "metadata": {},
   "outputs": [],
   "source": [
    "from CoolProp.CoolProp import PropsSI\n",
    "import numpy as np"
   ]
  },
  {
   "cell_type": "code",
   "execution_count": 83,
   "id": "070ee8ab",
   "metadata": {},
   "outputs": [
    {
     "name": "stdout",
     "output_type": "stream",
     "text": [
      "Re_D_i_4: 14.49473323825176\n",
      "epsilon_4: 0.9591740227130023\n",
      "Re_D_i_5_v: 385.1564341149362\n",
      "epsilon_5: 0.0072790051814003096\n"
     ]
    }
   ],
   "source": [
    "#m_dot_f_eval = np.linspace(0.006,0.013,num=1000)\n",
    "m_dot_f_eval = [0.0002]\n",
    "for m_dot_f in m_dot_f_eval:\n",
    "    \"############### parametros do trocador ##############\"\n",
    "\n",
    "    L = 2\n",
    "    D = 0.076\n",
    "    d_i = 10**(-2)\n",
    "    d_e = 11**(-2)\n",
    "    n_tubos = 19\n",
    "    P_T = 15 * 10**(-3)\n",
    "    B_chi = L / 8\n",
    "    A_i = np.pi * d_i * L * n_tubos\n",
    "    P_i_m = np.pi * d_i\n",
    "    A_e = np.pi * d_e * L * n_tubos\n",
    "    P_e_m = np.pi * d_e\n",
    "    A_i_t = np.pi * d_i**2/4\n",
    "    A_c_t = np.pi * D**2/4\n",
    "    k_aco = 504\n",
    "\n",
    "    \"############### chute inicial de temp. ##############\"\n",
    "\n",
    "    T_f_ent_1 = 28 + 273.15\n",
    "    T_f_sai_chut_1 =  600 + 273.15\n",
    "    T_f_sai_chut_5 = (T_f_sai_chut_1 - 373.15 )/2 + 373.15\n",
    "    T_f_sai_chut_6 = T_f_sai_chut_1\n",
    "\n",
    "    T_q_ent_2 = 665 + 273.15\n",
    "    T_q_sai_chut_2 =  50 + 273.15\n",
    "    T_q_sai_chut_4 = (T_q_sai_chut_2 - T_q_ent_2)/3 + T_q_ent_2\n",
    "    T_q_sai_chut_5 = (T_q_sai_chut_2 - T_q_ent_2)/3 * 2 + T_q_ent_2\n",
    "    T_q_sai_chut_6 = T_q_sai_chut_2\n",
    "\n",
    "\n",
    "    \"############### Volumes de Controle IV.V.VI ##############\"\n",
    "\n",
    "    m_dot_q = 0.102115\n",
    "    P_q = 101325\n",
    "    P_f = 101325\n",
    "\n",
    "    \"Diâmetro hidraulico\"\n",
    "\n",
    "    D_h =  A_i_t/P_i_m\n",
    "\n",
    "\n",
    "    \"parametros do fluido quente\"\n",
    "\n",
    "    T_q_ent_kern = T_q_ent_2\n",
    "    T_med_q_kern = (T_q_ent_kern + T_q_sai_chut_6)/2\n",
    "    mu_q_kern = PropsSI('viscosity','P',P_q,'T',T_med_q_kern,'air')\n",
    "    Pr_q_kern = PropsSI('Prandtl','P',P_q,'T',T_med_q_kern,'air')\n",
    "    k_q_kern = PropsSI('conductivity','P',P_q,'T',T_med_q_kern,'air')\n",
    "\n",
    "    D_e_kern = (4*((P_T**2 * 3**(1/2))/4 - (np.pi * d_e**2)/8))/(np.pi * d_e/2)\n",
    "\n",
    "    C_kern = P_T - d_e\n",
    "\n",
    "    A_c = D_e_kern/P_T * C_kern * B_chi\n",
    "\n",
    "    Re_c = m_dot_q/A_c * D_e_kern/mu_q_kern\n",
    "\n",
    "    h_e = (0.36 * k_q_kern)/D_e_kern * Re_c**0.55 * Pr_q_kern**(1/3)\n",
    "\n",
    "    \"############### Volume de Controle IV ##############\"\n",
    "\n",
    "    \"parametros do fluido frio\"\n",
    "\n",
    "    T_f_ent_4 = T_f_ent_1\n",
    "    T_f_sai_4 = 373.15\n",
    "    T_med_f_4 = (T_f_ent_4 +T_f_sai_4) / 2\n",
    "    c_p_f_4 = PropsSI('CPMASS','P',P_f,'T',T_med_f_4,'water')\n",
    "    I_f_ent_4 = PropsSI('H','P',P_f,'T',T_f_ent_1,'water')\n",
    "    I_f_sai_4 = PropsSI('H','P',P_f,'T',T_f_sai_4,'water')\n",
    "    mu_f_4 = PropsSI('viscosity','P',P_f,'T',T_med_f_4,'water')\n",
    "    Pr_f_4 = PropsSI('Prandtl','P',P_f,'T',T_med_f_4,'water')\n",
    "    k_f_4 = PropsSI('conductivity','P',P_f,'T',T_med_f_4,'water')\n",
    "\n",
    "\n",
    "    \"parametros do fluido quente\"\n",
    "\n",
    "    T_q_ent_4 = T_q_ent_2\n",
    "    T_med_q_4 = (T_q_ent_4 + T_q_sai_chut_4)/2\n",
    "    c_p_q_4 = PropsSI('CPMASS','P',P_q,'T',T_med_q_4,'air')\n",
    "\n",
    "    \"parametros adicionais\"\n",
    "\n",
    "    mu_f_s_4 = PropsSI('viscosity','P',P_q,'T',T_med_q_4,'air')\n",
    "\n",
    "\n",
    "    \"Balanço de massas e energias\"\n",
    "\n",
    "    T_q_sai_4 = T_q_ent_4 - m_dot_f*(I_f_sai_4-I_f_ent_4)/(m_dot_q * c_p_q_4)\n",
    "\n",
    "    q_4 = m_dot_q * c_p_q_4 * (T_q_ent_4 - T_q_sai_4)\n",
    "\n",
    "    \"calculo da efetividade\"\n",
    "\n",
    "    c_q_4 = m_dot_q * c_p_q_4\n",
    "    c_f_4 = m_dot_f * c_p_f_4\n",
    "\n",
    "    if c_q_4<c_f_4 :\n",
    "        c_min_4 = c_q_4 \n",
    "        c_max_4 = c_f_4\n",
    "\n",
    "    else:\n",
    "        c_min_4 = c_f_4\n",
    "        c_max_4 = c_q_4\n",
    "\n",
    "    c_r_4 = c_min_4/c_max_4\n",
    "\n",
    "    q_max_4 = c_min_4 * (T_q_ent_4 - T_f_ent_4)\n",
    "\n",
    "    epsilon_4 = q_4 / q_max_4\n",
    "\n",
    "    e_c_4 = (2/epsilon_4 - 1 + c_r_4)/(1 + c_r_4**2)**(1/2)\n",
    "\n",
    "    NUT_4 = -(1 + c_r_4**2)**(-1/2) * np.log((e_c_4 - 1)/(e_c_4 + 1))\n",
    "\n",
    "    \"Numero de Reynolds\"\n",
    "\n",
    "    Re_D_i_4 = (m_dot_f*D_h)/(A_i_t*mu_f_4)\n",
    "\n",
    "    \"numero de Nusselt\"\n",
    "\n",
    "    Nu_D_4 = 3.66\n",
    "\n",
    "    \"coeficiente de convecção interna\"\n",
    "\n",
    "    h_i_4 = (Nu_D_4*k_f_4)/(d_i)\n",
    "\n",
    "    \"coeficientes globais\"\n",
    "\n",
    "    R_d_i_4 = 0.0002\n",
    "    R_d_e = 0.0009\n",
    "\n",
    "    U_i_4 = (1/h_i_4 + R_d_i_4 + d_i * (np.log(d_e/d_i))/(2 * k_aco) + (d_i/d_e) * R_d_e + d_i/(d_e * h_e))**(-1)\n",
    "\n",
    "    \"encontrando comprimento do volume de controle\"\n",
    "\n",
    "    L_4 = (NUT_4 * c_min_4)/(U_i_4 * d_i * np.pi)\n",
    "\n",
    "\n",
    "    \"############### Volume de Controle V ##############\"\n",
    "\n",
    "    \"parametros do fluido frio\"\n",
    "\n",
    "    T_f_ent_5 = T_f_sai_4\n",
    "    T_med_f_5 = (T_f_ent_5 + T_f_sai_chut_5) / 2\n",
    "    I_f_ent_5 = PropsSI('H','Q',0,'T',T_f_ent_5,'water')\n",
    "    I_f_sai_5 = PropsSI('H','Q',1,'T',T_f_sai_chut_5,'water')\n",
    "\n",
    "    mu_f_a = PropsSI('viscosity','Q',0,'T',T_med_f_5,'water')\n",
    "    Pr_f_a = PropsSI('Prandtl','Q',0,'T',T_med_f_5,'water')\n",
    "    k_f_a = PropsSI('conductivity','Q',0,'T',T_med_f_5,'water')\n",
    "    c_p_f_a = PropsSI('CPMASS','Q',0,'T',T_med_f_5,'water')\n",
    "    I_f_a = PropsSI('H','Q',0,'T',T_med_f_5,'water')\n",
    "    rho_f_a = PropsSI('D','Q',0,'T',T_med_f_5,'water')\n",
    "\n",
    "    mu_f_v = PropsSI('viscosity','Q',1,'T',T_med_f_5,'water')\n",
    "    Pr_f_v = PropsSI('Prandtl','Q',1,'T',T_med_f_5,'water')\n",
    "    k_f_v = PropsSI('conductivity','Q',1,'T',T_med_f_5,'water')\n",
    "    c_p_f_v = PropsSI('CPMASS','Q',1,'T',T_med_f_5,'water')\n",
    "    I_f_v = PropsSI('H','Q',1,'T',T_med_f_5,'water')\n",
    "    rho_f_v = PropsSI('D','Q',0,'T',T_med_f_5,'water')\n",
    "\n",
    "\n",
    "    \" tirando média dos parâmetros termo-físicos\"\n",
    "    \"\"\"\n",
    "    c_p_f_a = Cp (Water;T=T_med_f_5;P=P_f)\n",
    "    mu_f_a = Viscosity(Water;T=T_med_f_5;P=P_f)\n",
    "    rho_f_a = Density(Water;T=T_med_f_5;P=P_f)\n",
    "    Pr_f_a = Prandtl(Water;T=T_med_f_5;P=P_f)\n",
    "    k_f_a = Conductivity(Water;T=T_med_f_5;P=P_f)\n",
    "\n",
    "    c_p_f_v = Cp (Steam;T=T_med_f_5;P=P_f)\n",
    "    mu_f_v = Viscosity(Steam;T=T_med_f_5;P=P_f)\n",
    "    rho_f_v = Density(Steam;T=T_med_f_5;P=P_f)\n",
    "    Pr_f_v = Prandtl(Steam;T=T_med_f_5;P=P_f)\n",
    "\n",
    "    c_p_f_5 = (c_p_f_v + c_p_f_a)/2\n",
    "    mu_f_5 = (mu_f_v + mu_f_a)/2\n",
    "    \"\"\"\n",
    "    \"parametros do fluido quente\"\n",
    "\n",
    "    T_q_ent_5 = T_q_sai_4\n",
    "    T_med_q_5 = (T_q_ent_5 + T_q_sai_chut_5)/2\n",
    "    c_p_q_5 = PropsSI('CPMASS','P',P_q,'T',T_med_f_5,'air')\n",
    "\n",
    "    \"Balanço de massas e energias\"\n",
    "\n",
    "    T_q_sai_5 = T_q_ent_5 - m_dot_f*(I_f_sai_5 - I_f_ent_5)/(m_dot_q * c_p_q_5)\n",
    "\n",
    "    q_5 = m_dot_q * c_p_q_5 * (T_q_ent_5 - T_q_sai_5)\n",
    "\n",
    "    \"calculo da efetividade\"\n",
    "\n",
    "    c_q_5 = m_dot_q * c_p_q_5\n",
    "\n",
    "    c_min_5 = c_q_5 \n",
    "\n",
    "    c_r_5 = 0\n",
    "\n",
    "    q_max_5 = c_min_5 * (T_q_ent_5 - T_f_ent_5)\n",
    "\n",
    "    epsilon_5 = q_5 / q_max_5\n",
    "\n",
    "    NUT_5 = -np.log(1-epsilon_5)\n",
    "\n",
    "    \"Numero de Reynolds\"\n",
    "\n",
    "    Re_D_i_5_v = (m_dot_f*D_h)/(A_i_t*mu_f_v)\n",
    "\n",
    "    Re_D_i_5_a = (m_dot_f*D_h)/(A_i_t*mu_f_v)\n",
    "\n",
    "    X_bar = q_5/(m_dot_f*(I_f_v-I_f_a))\n",
    "\n",
    "    G_s_f = 1\n",
    "\n",
    "    Fr = ((m_dot_f/A_i_t) * rho_f_a)/(2*10*d_i)\n",
    "\n",
    "    if Fr >= 0.04:\n",
    "        f_Fr =1\n",
    "\n",
    "    else:\n",
    "        f_Fr = 2.63*Fr**0.3\n",
    "        \n",
    "    \n",
    "\n",
    "    print('Re_D_i_4: {}\\nepsilon_4: {}'.format(Re_D_i_4,epsilon_4))\n",
    "    print('Re_D_i_5_v: {}\\nepsilon_5: {}'.format(Re_D_i_5_v,epsilon_5))\n",
    "\n",
    "    \"\"\"\n",
    "    if epsilon_5 >=1:\n",
    "        print('Re_D_i_4_v: {}\\nepsilon_4: {}'.format(Re_D_i_5_v,epsilon_5))\n",
    "        print('Re_D_i_4: {}\\nepsilon_4: {}'.format(Re_D_i_4,epsilon_4))\n",
    "        print('m_dot_f: {}'.format(m_dot_f))\n",
    "        \n",
    "        break\n",
    "    \"\"\""
   ]
  },
  {
   "cell_type": "code",
   "execution_count": 74,
   "id": "887de457",
   "metadata": {},
   "outputs": [
    {
     "data": {
      "text/plain": [
       "44.82707802235001"
      ]
     },
     "execution_count": 74,
     "metadata": {},
     "output_type": "execute_result"
    }
   ],
   "source": [
    "L_4"
   ]
  },
  {
   "cell_type": "code",
   "execution_count": 69,
   "id": "a1bed477",
   "metadata": {},
   "outputs": [
    {
     "name": "stdout",
     "output_type": "stream",
     "text": [
      "epsilon_5 = q_5 / q_max_5\n",
      "\n",
      "q_5: 25733.646576620115\n",
      "q_max_5: 30844.769206081095\n"
     ]
    }
   ],
   "source": [
    "print('epsilon_5 = q_5 / q_max_5\\n\\nq_5: {}\\nq_max_5: {}'.format(q_5,q_max_5))"
   ]
  },
  {
   "cell_type": "code",
   "execution_count": 44,
   "id": "16399dff",
   "metadata": {},
   "outputs": [
    {
     "data": {
      "text/plain": [
       "375.1504515500691"
      ]
     },
     "execution_count": 44,
     "metadata": {},
     "output_type": "execute_result"
    }
   ],
   "source": [
    "t = T_q_ent_5 - 11599/(m_dot_q * c_p_q_5)\n",
    "t"
   ]
  },
  {
   "cell_type": "code",
   "execution_count": 52,
   "id": "bf3df366",
   "metadata": {},
   "outputs": [],
   "source": [
    "T_q_sai_5 = T_q_ent_5 - 0.004*(I_f_sai_5 - I_f_ent_5)/(m_dot_q * c_p_q_5)"
   ]
  },
  {
   "cell_type": "code",
   "execution_count": 53,
   "id": "915a8227",
   "metadata": {},
   "outputs": [
    {
     "data": {
      "text/plain": [
       "403.8876579344467"
      ]
     },
     "execution_count": 53,
     "metadata": {},
     "output_type": "execute_result"
    }
   ],
   "source": [
    "T_q_sai_5"
   ]
  },
  {
   "cell_type": "code",
   "execution_count": null,
   "id": "ae729a22",
   "metadata": {},
   "outputs": [],
   "source": []
  }
 ],
 "metadata": {
  "kernelspec": {
   "display_name": "Python 3",
   "language": "python",
   "name": "python3"
  },
  "language_info": {
   "codemirror_mode": {
    "name": "ipython",
    "version": 3
   },
   "file_extension": ".py",
   "mimetype": "text/x-python",
   "name": "python",
   "nbconvert_exporter": "python",
   "pygments_lexer": "ipython3",
   "version": "3.8.8"
  },
  "varInspector": {
   "cols": {
    "lenName": 16,
    "lenType": 16,
    "lenVar": 40
   },
   "kernels_config": {
    "python": {
     "delete_cmd_postfix": "",
     "delete_cmd_prefix": "del ",
     "library": "var_list.py",
     "varRefreshCmd": "print(var_dic_list())"
    },
    "r": {
     "delete_cmd_postfix": ") ",
     "delete_cmd_prefix": "rm(",
     "library": "var_list.r",
     "varRefreshCmd": "cat(var_dic_list()) "
    }
   },
   "oldHeight": 368,
   "position": {
    "height": "40px",
    "left": "-639px",
    "right": "20px",
    "top": "162px",
    "width": "433px"
   },
   "types_to_exclude": [
    "module",
    "function",
    "builtin_function_or_method",
    "instance",
    "_Feature"
   ],
   "varInspector_section_display": "none",
   "window_display": false
  }
 },
 "nbformat": 4,
 "nbformat_minor": 5
}
