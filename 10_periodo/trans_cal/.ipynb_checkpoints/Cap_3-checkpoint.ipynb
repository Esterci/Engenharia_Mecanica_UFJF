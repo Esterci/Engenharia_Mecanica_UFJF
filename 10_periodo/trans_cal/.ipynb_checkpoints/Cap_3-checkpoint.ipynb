{
 "cells": [
  {
   "cell_type": "code",
   "execution_count": 6,
   "id": "theoretical-consensus",
   "metadata": {},
   "outputs": [],
   "source": [
    "import numpy as np \n",
    "import math as m\n",
    "import matplotlib.pyplot as plt\n",
    "\n",
    "def cel_to_kel(D):\n",
    "    K = D + 273.15\n",
    "    return K\n",
    "\n",
    "def kel_to_cel(K):\n",
    "    D = K - 273.15\n",
    "    return D"
   ]
  },
  {
   "cell_type": "markdown",
   "id": "broken-foster",
   "metadata": {},
   "source": [
    "# Useful constants"
   ]
  },
  {
   "cell_type": "code",
   "execution_count": 2,
   "id": "comfortable-swimming",
   "metadata": {},
   "outputs": [],
   "source": [
    "sigma = 5.67*10**(-8)"
   ]
  },
  {
   "cell_type": "markdown",
   "id": "arranged-kelly",
   "metadata": {},
   "source": [
    "# Exercício 3.1\n",
    "- Página 69\n",
    "![esquema](esquemas/exercicio_3_1.png)\n",
    "\n",
    "### Considerações:\n",
    "1. Condições de regime estacionário.\n",
    "\n",
    "2. Transferência de calor unidimensional por condução por meio das camadas de pele/gordura e de isolante.\n",
    "\n",
    "3. Resistência de contato é desprezível.\n",
    "\n",
    "4. Condutividades térmicas são uniformes.\n",
    "\n",
    "5. Troca radiante entre a superfície dos casacos e a vizinhança pode ser vista como entre uma pequena superfície e uma grande vizinhança na temperatura do ar.\n",
    "\n",
    "6. Água líquida é opaca para a radiação térmica.\n",
    "\n",
    "7. Radiação solar é desprezível.\n",
    "\n",
    "8. O corpo encontra-se completamente imerso na água na parte 2."
   ]
  },
  {
   "cell_type": "code",
   "execution_count": 16,
   "id": "overhead-clear",
   "metadata": {},
   "outputs": [
    {
     "name": "stdout",
     "output_type": "stream",
     "text": [
      "R_tot = 5.713000 K/W\n",
      "Para o ar: L_iso = 1.420554e-01 m\n",
      "Para a agua: L_iso = 1.437576e-01 m\n",
      "Temperatura da pele: T_p = 307.594444 K = 34.444444ºC \n"
     ]
    }
   ],
   "source": [
    "# Dados\n",
    "\n",
    "T_i = cel_to_kel(35)\n",
    "T_inf = T_viz = kel_to_cel(10)\n",
    "k_pg = 0.3\n",
    "L_pg = 3e-3\n",
    "epsilon = 0.95\n",
    "k_iso = 0.014\n",
    "h1 = 2\n",
    "h2 = 200\n",
    "hr = 5.9\n",
    "q = 100\n",
    "A = 1.8\n",
    "\n",
    "# Analise\n",
    "\n",
    "R_tot = (T_i-T_inf)/q\n",
    "\n",
    "print('R_tot = {:.6f} K/W'.format(R_tot))\n",
    "\n",
    "# Para o ar \n",
    "\n",
    "L_iso = k_iso*(A*R_tot-L_pg/k_pg-1/(h1+hr))\n",
    "\n",
    "print('Para o ar: L_iso = {:.6e} m'.format(L_iso))\n",
    "\n",
    "# Para o agua \n",
    "\n",
    "L_iso = k_iso*(A*R_tot-L_pg/k_pg-1/(h2))\n",
    "\n",
    "print('Para a agua: L_iso = {:.6e} m'.format(L_iso))\n",
    "\n",
    "T_p = T_i - q*L_pg/(k_pg*A)\n",
    "\n",
    "print('Temperatura da pele: T_p = {:.6f} K = {:.6f}ºC '.format(T_p,kel_to_cel(T_p)))"
   ]
  },
  {
   "cell_type": "markdown",
   "id": "alpha-error",
   "metadata": {},
   "source": [
    "# Exercício 3.2\n",
    "- Página 71\n",
    "![esquema](esquemas/exercicio_3_2.png)\n",
    "\n",
    "### Considerações:\n",
    "1. Condições de regime estacionário.\n",
    "\n",
    "2. Condução unidimensional (transferência de calor desprezível nas laterais do conjunto).\n",
    "\n",
    "3. Resistência térmica no chip desprezível (chip isotérmico).\n",
    "\n",
    "4. Propriedades constantes.\n",
    "\n",
    "5. Troca radiante com a vizinhança desprezível."
   ]
  },
  {
   "cell_type": "markdown",
   "id": "virgin-awareness",
   "metadata": {},
   "source": [
    "### Balanço de energia:\n",
    "\n",
    "$ \\Large \\dot{E}_{acu}=\\dot{E}_{ent}+\\dot{E}_{g}-\\dot{E}_{sai} \\therefore 0=\\dot{E}_{g}-\\dot{E}_{sai} \\therefore \\dot{E}_{g}=\\dot{E}_{sai} \\therefore {q_c}''={q_1}''+{q_2}''\\therefore \\\\ \\Large  {q_c}'' = \\frac{T_c-T_infty}{1/h} + \\frac{T_c-T_\\infty}{{R}''_{t,c} + (L/k_{al}) + (L/h)}$"
   ]
  },
  {
   "cell_type": "code",
   "execution_count": 5,
   "id": "recent-richmond",
   "metadata": {},
   "outputs": [
    {
     "name": "stdout",
     "output_type": "stream",
     "text": [
      "Temperatura do chip: 348.456788 K = 75.306788 ºC\n"
     ]
    }
   ],
   "source": [
    "L = 8e-3\n",
    "W = 10e-3\n",
    "T_inf = cel_to_kel(25)\n",
    "h = 100\n",
    "flux_q_c = 10**4\n",
    "k_al = 239\n",
    "R_tc = 0.9e-4\n",
    "\n",
    "T_c = T_inf + flux_q_c*(h+1/(R_tc +(L/k_al)+(1/h)))**(-1)\n",
    "\n",
    "print('Temperatura do chip: {:.6f} K = {:.6f} ºC'.format(T_c,kel_to_cel(T_c)))"
   ]
  },
  {
   "cell_type": "markdown",
   "id": "wanted-ministry",
   "metadata": {},
   "source": [
    "# Exercício 3.3\n",
    "- Página 73\n",
    "![esquema](esquemas/exercicio_3_3_1.png)\n",
    "![esquema](esquemas/exercicio_3_3_2.png)\n",
    "\n",
    "### Considerações:\n",
    "1. Condições de regime estacionário.\n",
    "\n",
    "2. Transferência de calor unidimensional.\n",
    "\n",
    "3. Propriedades constantes.\n",
    "\n",
    "4. Resistências térmicas de contato desprezíveis.\n",
    "\n",
    "5. Diferenças de temperaturas no interior da camada de silício desprezíveis."
   ]
  },
  {
   "cell_type": "code",
   "execution_count": 17,
   "id": "animal-financing",
   "metadata": {},
   "outputs": [
    {
     "data": {
      "text/plain": [
       "[{P: 14.3466715857189, Tsi: 306.069335874030, Tvtop: 305.687361634752},\n",
       " {P: 88.2376344520889, Tsi: -965.720042204628, Tvtop: -964.518129075350}]"
      ]
     },
     "execution_count": 17,
     "metadata": {},
     "output_type": "execute_result"
    }
   ],
   "source": [
    "k_v = 1.4\n",
    "L_v = 3e-3\n",
    "L_a = 0.1e-3\n",
    "k_a = 145\n",
    "L_s = 0.1e-3\n",
    "L_n = 2e-3\n",
    "a = 0.553\n",
    "b = 0.001\n",
    "G_s = 700\n",
    "ref_v = 7/100\n",
    "abs_v = 10/100\n",
    "abs_s = 83/100\n",
    "epsilon_v = 0.9\n",
    "C = 1\n",
    "W = 0.1\n",
    "h = 35\n",
    "T_inf = T_viz = cel_to_kel(20)\n",
    "\n",
    "K = L_a/k_a + L_v/k_v\n",
    "\n",
    "P, Tsi, Tvtop = sympy.symbols(\"P Tsi Tvtop\", real=True)\n",
    "\n",
    "eq1 = sympy.Eq(P/(0.83 * G_s * C * W) + b * Tsi, a)\n",
    "eq2 = sympy.Eq(Tsi*(1/K-0.83*G_s*b)-Tvtop*(1/K),0.83*(1-a))\n",
    "eq3 = sympy.Eq(h*(Tvtop-T_inf)+epsilon_v*sigma*(Tvtop**4-T_viz**4)-0.83*G_s*b*Tsi, 0.83*G_s*(1-a)+0.1*G_s)\n",
    "\n",
    "sympy.solve([eq1, eq2,eq3])"
   ]
  },
  {
   "cell_type": "code",
   "execution_count": null,
   "id": "quick-trance",
   "metadata": {},
   "outputs": [],
   "source": []
  },
  {
   "cell_type": "code",
   "execution_count": 11,
   "id": "absolute-letter",
   "metadata": {},
   "outputs": [
    {
     "data": {
      "text/plain": [
       "[{x: 7.56236430542394, y: -0.852406950510969},\n",
       " {x: 7.80697412192104, y: 0.000885037011715321}]"
      ]
     },
     "execution_count": 11,
     "metadata": {},
     "output_type": "execute_result"
    }
   ],
   "source": [
    "import sympy\n",
    "\n",
    "x, y = sympy.symbols(\"x y\", real=True)\n",
    "\n",
    "eq1 = sympy.Eq((6.3205 - x)**2 + (-0.0347 - y)**2, 1.4869**2)\n",
    "eq2 = sympy.Eq((8.3769 - x)**2 + (-0.6242 - y)**2, 0.8459**2)\n",
    "\n",
    "sympy.solve([eq1, eq2])"
   ]
  },
  {
   "cell_type": "markdown",
   "id": "streaming-yesterday",
   "metadata": {},
   "source": [
    "Solve the system of equations x0 + 2 * x1 = 1 and 3 * x0 + 5 * x1 = 2:"
   ]
  },
  {
   "cell_type": "markdown",
   "id": "timely-compression",
   "metadata": {},
   "source": [
    "# Exercício 3.4\n",
    "- Página 74\n",
    "![esquema](esquemas/exercicio_3_4.png)\n",
    "\n",
    "### Considerações:\n",
    "1. Condições de regime estacionário.\n",
    "\n",
    "2. Transferência de calor unidimensional.\n",
    "\n",
    "3. As ilhas aquecida e sensora são isotérmicas.\n",
    "\n",
    "4. Troca radiante entre as superfícies e a vizinhança é desprezível.\n",
    "\n",
    "5. Perdas convectivas são desprezíveis.\n",
    "\n",
    "6. Aquecimento ôhmico nas linhas de platina é desprezível.\n",
    "\n",
    "7. Propriedades constantes.\n",
    "\n",
    "8. Resistência de contato entre o nanotubo e as ilhas é desprezível."
   ]
  },
  {
   "cell_type": "markdown",
   "id": "favorite-powder",
   "metadata": {},
   "source": [
    "# Exercício 3.5\n",
    "- Página 77\n",
    "![esquema](esquemas/exercicio_3_5.png)\n",
    "\n",
    "### Considerações:\n",
    "1. Condições de regime estacionário.\n",
    "\n",
    "2. Condução unidimensional na direção x.\n",
    "\n",
    "3. Não há geração de calor no interior do cone.\n",
    "\n",
    "4. Propriedades constantes."
   ]
  },
  {
   "cell_type": "code",
   "execution_count": 14,
   "id": "forward-control",
   "metadata": {},
   "outputs": [
    {
     "name": "stdout",
     "output_type": "stream",
     "text": [
      "A taxa de transferência de calor é -2.1230 W\n"
     ]
    }
   ],
   "source": [
    "a = 0.25\n",
    "x1 = 50e-3\n",
    "x2 = 250e-3\n",
    "T1 = 400\n",
    "T2 = 600\n",
    "k = 3.46\n",
    "\n",
    "qx = np.pi*a**2*k*(T1 - T2)/(4*((1/x1)-(1/x2)))\n",
    "\n",
    "x = np.linspace(x1,x2,1000)\n",
    "\n",
    "T = T1-(4*qx/(np.pi*a**2*k))*((1/x1)-(1/x))\n",
    "\n",
    "print('A taxa de transferência de calor é {:.4f} W'.format(qx))"
   ]
  },
  {
   "cell_type": "code",
   "execution_count": 15,
   "id": "hundred-ability",
   "metadata": {},
   "outputs": [
    {
     "data": {
      "image/png": "[encoded data removed]",
      "text/plain": [
       "<Figure size 1152x648 with 1 Axes>"
      ]
     },
     "metadata": {
      "needs_background": "light"
     },
     "output_type": "display_data"
    }
   ],
   "source": [
    "fig = plt.figure(figsize=[16,9])\n",
    "ax = fig.subplots(1)\n",
    "\n",
    "# Plot\n",
    "\n",
    "ax.set_ylabel('$T(K)$',fontsize=16)\n",
    "ax.set_xlabel('$x$(m)',fontsize=16)\n",
    "ax.set_title('Gráfico da Temperatura (T) em função da distância (x)',fontsize=20)\n",
    "        \n",
    "ax.plot(x, T,'b', linewidth=4)\n",
    "    \n",
    "ax.grid()\n",
    "        \n",
    "plt.show()"
   ]
  },
  {
   "cell_type": "markdown",
   "id": "relative-decrease",
   "metadata": {},
   "source": [
    "# Exercício 3.6\n",
    "> # Conceitual\n",
    "- Página 80\n",
    "![esquema](esquemas/exercicio_3_6.png)\n",
    "\n",
    "### Considerações:\n",
    "1. Condições de regime estacionário.\n",
    "\n",
    "2. Transferência de calor unidimensional na direção radial (cilíndrica).\n",
    "\n",
    "3. Resistência térmica na parede do tubo desprezível.\n",
    "\n",
    "4. Propriedades constantes do isolante.\n",
    "\n",
    "5. Troca térmica por radiação entre a superfície externa do isolante e a vizinhança desprezível."
   ]
  },
  {
   "cell_type": "markdown",
   "id": "weekly-brooks",
   "metadata": {},
   "source": [
    "# Exercício 3.7\n",
    "- Página 84\n",
    "![esquema](esquemas/exercicio_3_7.png)\n",
    "\n",
    "### Considerações:\n",
    "1. Condições de regime estacionário.\n",
    "\n",
    "2. Condução unidimensional na direção x.\n",
    "\n",
    "3. Resistência de contato entre as paredes desprezível.\n",
    "\n",
    "4. Superfície interna de A adiabática.\n",
    "\n",
    "5. Propriedades dos materiais A e B constantes."
   ]
  },
  {
   "cell_type": "markdown",
   "id": "driven-infection",
   "metadata": {},
   "source": [
    "# Exercício 3.8\n",
    "- Página 86\n",
    "![esquema](esquemas/exercicio_3_8.png)\n",
    "\n",
    "### Considerações:\n",
    "1. Condições de regime estacionário.\n",
    "\n",
    "2. Condução radial unidimensional.\n",
    "\n",
    "3. Propriedades constantes.\n",
    "\n",
    "4. Geração de calor volumétrica uniforme.\n",
    "\n",
    "5. Superfície externa adiabática."
   ]
  },
  {
   "cell_type": "markdown",
   "id": "international-elder",
   "metadata": {},
   "source": [
    "# Exercício 3.9\n",
    "- Página 92\n",
    "![esquema](esquemas/exercicio_3_9.png)\n",
    "\n",
    "### Considerações:\n",
    "1. Condições de regime estacionário.\n",
    "\n",
    "2. Temperatura uniforme na seção transversal do bastão.\n",
    "\n",
    "3. Propriedades constantes.\n",
    "\n",
    "4. Troca radiante com a vizinhança desprezível.\n",
    "\n",
    "5. Coeficiente de transferência de calor uniforme.\n",
    "\n",
    "6. Bastão com comprimento infinito."
   ]
  },
  {
   "cell_type": "markdown",
   "id": "mechanical-professor",
   "metadata": {},
   "source": [
    "# Exercício 3.10\n",
    "- Página 98\n",
    "![esquema](esquemas/exercicio_3_10.png)\n",
    "\n",
    "### Considerações:\n",
    "1. Condições de regime estacionário.\n",
    "\n",
    "2. Temperatura uniforme através da espessura da aleta.\n",
    "\n",
    "3. Propriedades constantes.\n",
    "\n",
    "4. Troca radiante com a vizinhança desprezível.\n",
    "\n",
    "5. Coeficiente convectivo uniforme sobre a superfície externa (com ou sem aletas)."
   ]
  },
  {
   "cell_type": "markdown",
   "id": "associate-solomon",
   "metadata": {},
   "source": [
    "# Exercício 3.11\n",
    "- Página 100\n",
    "![esquema](esquemas/exercicio_3_11.png)\n",
    "\n",
    "### Considerações:\n",
    "1. Condições de regime estacionário.\n",
    "\n",
    "2. Transferência de calor unidimensional através das camadas de músculo e de pele/gordura.\n",
    "\n",
    "3. Taxa de geração de calor metabólica, taxa de perfusão, temperatura arterial, propriedades do sangue e condutividades térmicas uniformes.\n",
    "\n",
    "4. Coeficiente de transferência de calor por radiação conhecido do Exemplo 1.6.\n",
    "\n",
    "5. Irradiação solar desprezível."
   ]
  },
  {
   "cell_type": "markdown",
   "id": "annoying-immune",
   "metadata": {},
   "source": [
    "# Exercício 3.12\n",
    "- Página 105\n",
    "![esquema](esquemas/exercicio_3_12_1.png)\n",
    "![esquema](esquemas/exercicio_3_12.png)\n",
    "\n",
    "### Considerações:\n",
    "1. Condições de regime estacionário.\n",
    "\n",
    "2. Transferência de calor unidimensional.\n",
    "\n",
    "3. Propriedades constantes.\n",
    "\n",
    "4. Resistências de contato elétricas e térmicas desprezíveis.\n",
    "\n",
    "5. Troca por radiação desprezível e transferência de calor no gás dentro dos módulos desprezível.\n",
    "\n",
    "6. Resistência condutiva desprezível nos contatos metálicos e nos isolantes cerâmicos dos módulos."
   ]
  },
  {
   "cell_type": "markdown",
   "id": "studied-impression",
   "metadata": {},
   "source": [
    "# Exercício 3.13\n",
    "- Página 108\n",
    "![esquema](esquemas/exercicio_3_13.png)\n",
    "\n",
    "### Considerações:\n",
    "1. Condições de regime estacionário.\n",
    "\n",
    "2. Condução unidimensional na direção x.\n",
    "\n",
    "3. Sem geração interna de calor.\n",
    "\n",
    "4. Propriedades constantes."
   ]
  },
  {
   "cell_type": "code",
   "execution_count": null,
   "id": "metallic-qualification",
   "metadata": {},
   "outputs": [],
   "source": []
  }
 ],
 "metadata": {
  "kernelspec": {
   "display_name": "Python 3",
   "language": "python",
   "name": "python3"
  },
  "language_info": {
   "codemirror_mode": {
    "name": "ipython",
    "version": 3
   },
   "file_extension": ".py",
   "mimetype": "text/x-python",
   "name": "python",
   "nbconvert_exporter": "python",
   "pygments_lexer": "ipython3",
   "version": "3.7.6"
  }
 },
 "nbformat": 4,
 "nbformat_minor": 5
}
