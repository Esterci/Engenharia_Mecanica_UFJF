{
 "cells": [
  {
   "cell_type": "code",
   "execution_count": 1,
   "id": "tired-weekly",
   "metadata": {},
   "outputs": [],
   "source": [
    "import numpy as np \n",
    "import math as m\n",
    "\n",
    "def cel_to_kel(D):\n",
    "    K = D + 273.15\n",
    "    return K\n",
    "\n",
    "def kel_to_cel(K):\n",
    "    D = K - 273.15\n",
    "    return D"
   ]
  },
  {
   "cell_type": "markdown",
   "id": "ecological-ballot",
   "metadata": {},
   "source": [
    "# Useful constants"
   ]
  },
  {
   "cell_type": "code",
   "execution_count": 2,
   "id": "impossible-metabolism",
   "metadata": {},
   "outputs": [],
   "source": [
    "sigma = 5.67*10**(-8)"
   ]
  },
  {
   "cell_type": "markdown",
   "id": "violent-fairy",
   "metadata": {},
   "source": [
    "# 1.3"
   ]
  },
  {
   "cell_type": "code",
   "execution_count": 31,
   "id": "obvious-boost",
   "metadata": {},
   "outputs": [
    {
     "name": "stdout",
     "output_type": "stream",
     "text": [
      "4311.999999999999\n",
      "Energia perda: 3.725568e+08 J\n",
      "Energia forno: 4.139520e+08 J\n",
      "Custo: $ 8.28\n"
     ]
    }
   ],
   "source": [
    "C = 11\n",
    "L = 8\n",
    "l = 0.20\n",
    "T_s = celsius_to_kelvin (17)\n",
    "T_i = celsius_to_kelvin (10)\n",
    "k = 1.4\n",
    "eta = 0.9\n",
    "C_g = 0.02*10**(-6)\n",
    "t_d = 24*60**2\n",
    "\n",
    "A = C*L\n",
    "q = A*k*(T_s-T_i)/l\n",
    "print(q)\n",
    "print('Energia perda: {:e} J'.format(q*t_d))\n",
    "print('Energia forno: {:e} J'.format(q*t_d/eta))\n",
    "\n",
    "custo = (q*t_d*C_g)/eta\n",
    "print('Custo: $ {:.2f}'.format(custo))"
   ]
  },
  {
   "cell_type": "markdown",
   "id": "proof-following",
   "metadata": {},
   "source": [
    "# 1.6"
   ]
  },
  {
   "cell_type": "code",
   "execution_count": 50,
   "id": "continent-australia",
   "metadata": {},
   "outputs": [
    {
     "name": "stdout",
     "output_type": "stream",
     "text": [
      "Taxa de perda de calor: 19600.0 W\n",
      "Taxa de perda de calor: 1400.0 W\n",
      "Taxa de perda de calor: 60.0 W\n",
      "Taxa de perda de calor: 1400.0 W\n",
      "Taxa de perda de calor: 2860.0 W\n",
      "Taxa de perda de calor: 16740.0 W\n"
     ]
    }
   ],
   "source": [
    "W = 1\n",
    "H = 2\n",
    "l = 5*10**(-3)\n",
    "k_v = 1.4\n",
    "T_i = celsius_to_kelvin(15)\n",
    "T_e = celsius_to_kelvin(-20)\n",
    "l_ar = 10*10**(-3)\n",
    "T_1 = celsius_to_kelvin(10)\n",
    "T_2 = celsius_to_kelvin(-15)\n",
    "k_ar = 0.024\n",
    "\n",
    "# Letra A\n",
    "A = W*H\n",
    "q = A*k_v*(T_i-T_e)/l\n",
    "print('Taxa de perda de calor: {} W'.format(q))\n",
    "\n",
    "# Letra B\n",
    "q1_dot = (k_v/l)*(T_i-T_1)\n",
    "print('Taxa de perda de calor: {} W'.format(q1_dot))\n",
    "q2_dot = (k_ar/l_ar) *(T_1-T_2)\n",
    "print('Taxa de perda de calor: {} W'.format(q2_dot))\n",
    "q3_dot = (k_v/l) *(T_2-T_e)\n",
    "print('Taxa de perda de calor: {} W'.format(q3_dot))\n",
    "print('Taxa de perda de calor: {} W'.format(q1_dot + q2_dot + q3_dot))\n",
    "print('Taxa de perda de calor: {} W'.format(q - (q1_dot + q2_dot + q3_dot)))"
   ]
  },
  {
   "cell_type": "markdown",
   "id": "judicial-raise",
   "metadata": {},
   "source": [
    "# 1.10"
   ]
  },
  {
   "cell_type": "code",
   "execution_count": 64,
   "id": "original-twist",
   "metadata": {},
   "outputs": [
    {
     "name": "stdout",
     "output_type": "stream",
     "text": [
      "Temperatura p/ Al: 383.54788735772973 K\n",
      "Temperatura p/ Cu: 383.30915494309187 K\n"
     ]
    }
   ],
   "source": [
    "l = 5*eng(-3)\n",
    "D = 200*eng(-3)\n",
    "k_al = 240\n",
    "k_cu = 399\n",
    "T_a = celsius_to_kelvin(110)\n",
    "q = 600\n",
    "A = np.pi * D**2 /4\n",
    "\n",
    "# Para o alumínio\n",
    "\n",
    "T_f = (l*q)/(A*k_al) + T_a\n",
    "print('Temperatura p/ Al: {} K'.format((T_f)))\n",
    "\n",
    "# Para o alumínio\n",
    "\n",
    "T_f = (l*k_cu)/(A*k_cu) + T_a\n",
    "print('Temperatura p/ Cu: {} K'.format(T_f))\n"
   ]
  },
  {
   "cell_type": "markdown",
   "id": "consolidated-juvenile",
   "metadata": {},
   "source": [
    "# 1.11"
   ]
  },
  {
   "cell_type": "code",
   "execution_count": 67,
   "id": "therapeutic-conclusion",
   "metadata": {},
   "outputs": [
    {
     "name": "stdout",
     "output_type": "stream",
     "text": [
      "Diferença de temp.: 1.07 K\n"
     ]
    }
   ],
   "source": [
    "k_si = 150\n",
    "W = 5*eng(-3)\n",
    "l = 1*eng(-3)\n",
    "P = 4\n",
    "\n",
    "delta_T = l*P/(W**2 * k_si)\n",
    "print('Diferença de temp.: {:.2f} K'.format(delta_T))"
   ]
  },
  {
   "cell_type": "code",
   "execution_count": 70,
   "id": "heated-aluminum",
   "metadata": {},
   "outputs": [
    {
     "name": "stdout",
     "output_type": "stream",
     "text": [
      "Coeficiente de tranferência por convec. Ag: 4570.60\n",
      "Coeficiente de tranferência por convec. Ar: 65.29\n"
     ]
    }
   ],
   "source": [
    "D = 30*eng(-3)\n",
    "T_inft = celsius_to_kelvin(25)\n",
    "T_s = celsius_to_kelvin(90)\n",
    "P_u_ag = 28 *eng(3)\n",
    "P_u_ar = 400\n",
    "\n",
    "# Para a água\n",
    "\n",
    "h = (P_u_ag)/(np.pi*D*(T_s-T_inft))\n",
    "\n",
    "print('Coeficiente de tranferência por convec. Ag: {:.2f}'.format(h))\n",
    "\n",
    "h = (P_u_ar)/(np.pi*D*(T_s-T_inft))\n",
    "\n",
    "print('Coeficiente de tranferência por convec. Ar: {:.2f}'.format(h))"
   ]
  },
  {
   "cell_type": "markdown",
   "id": "quality-feeding",
   "metadata": {},
   "source": [
    "# 1.18"
   ]
  },
  {
   "cell_type": "code",
   "execution_count": 6,
   "id": "acceptable-market",
   "metadata": {},
   "outputs": [
    {
     "name": "stdout",
     "output_type": "stream",
     "text": [
      "Potência máxima1.: 0.35 W\n",
      "Potência máxima1.: 5.25 W\n"
     ]
    }
   ],
   "source": [
    "T_inf = cel_to_kel(15)\n",
    "T = cel_to_kel(85)\n",
    "w = 5*eng(-3)\n",
    "h1 = 200\n",
    "h2 = 3000\n",
    "\n",
    "A = w**2\n",
    "\n",
    "P = A*h1*(T - T_inf)\n",
    "print('Potência máxima1.: {:.2f} W'.format(P))\n",
    "\n",
    "P = A*h2*(T - T_inf)\n",
    "print('Potência máxima1.: {:.2f} W'.format(P))"
   ]
  },
  {
   "cell_type": "markdown",
   "id": "rental-astrology",
   "metadata": {},
   "source": [
    "# 1.28"
   ]
  },
  {
   "cell_type": "code",
   "execution_count": 18,
   "id": "heated-comparison",
   "metadata": {},
   "outputs": [
    {
     "name": "stdout",
     "output_type": "stream",
     "text": [
      "Perda de calor: 18424.27 W\n",
      "Custo: 6455.87 $\n"
     ]
    }
   ],
   "source": [
    "L = 25\n",
    "D = 100*eng(-3)\n",
    "T_viz = cel_to_kel(25)\n",
    "T_s = cel_to_kel(150)\n",
    "h = 10\n",
    "epsilon = 0.8\n",
    "eta = 0.9\n",
    "Cg = 0.02\n",
    "\n",
    "A = np.pi * D * L\n",
    "\n",
    "q = A*(h * (T_s - T_viz) + epsilon * sigma * (T_s**4 - T_viz**4))\n",
    "print('Perda de calor: {:.2f} W'.format(q))\n",
    "\n",
    "t = 60**2 * 24 * 365\n",
    "\n",
    "Custo = t*q*Cg*eng(-6)/eta\n",
    "\n",
    "print('Custo: {:.2f} $'.format(Custo))"
   ]
  },
  {
   "cell_type": "markdown",
   "id": "dominant-franklin",
   "metadata": {},
   "source": [
    "# 1.34"
   ]
  },
  {
   "cell_type": "code",
   "execution_count": 34,
   "id": "reflected-heavy",
   "metadata": {},
   "outputs": [
    {
     "name": "stdout",
     "output_type": "stream",
     "text": [
      "E_g = 144.00 W\n",
      "q_v = 2.04e+05 W/m^3\n",
      "q_v = 38.98 W/m^2.K\n"
     ]
    }
   ],
   "source": [
    "T_r = cel_to_kel(95)\n",
    "T_b = T_f = cel_to_kel(25)\n",
    "D = 60*eng(-3)\n",
    "L = 250*eng(-3)\n",
    "I = 6\n",
    "V = 24\n",
    "\n",
    "dot_E_g = dot_E_sai = V*I\n",
    "\n",
    "print('E_g = {:.2f} W'.format(dot_E_g))\n",
    "\n",
    "Vol = np.pi*D**2/4 * L\n",
    "\n",
    "q_v = dot_E_g/Vol\n",
    "\n",
    "print('q_v = {:.2e} W/m^3'.format(q_v))\n",
    "\n",
    "A = np.pi * D * L + 2*(np.pi * D**2 /4)\n",
    "\n",
    "h = dot_E_sai/(A*(T_r-T_b))\n",
    "\n",
    "print('q_v = {:.2f} W/m^2.K'.format(h))"
   ]
  },
  {
   "cell_type": "markdown",
   "id": "arranged-edition",
   "metadata": {},
   "source": [
    "# 1.65"
   ]
  },
  {
   "cell_type": "code",
   "execution_count": 22,
   "id": "acute-trainer",
   "metadata": {},
   "outputs": [],
   "source": [
    "T_0 = cel_to_kel(600)\n",
    "h = 5\n",
    "k = 1.4\n",
    "epsilon = 0.8"
   ]
  },
  {
   "cell_type": "code",
   "execution_count": 23,
   "id": "macro-launch",
   "metadata": {},
   "outputs": [
    {
     "data": {
      "text/plain": [
       "298.15"
      ]
     },
     "execution_count": 23,
     "metadata": {},
     "output_type": "execute_result"
    }
   ],
   "source": [
    "cel_to_kel(25)"
   ]
  },
  {
   "cell_type": "code",
   "execution_count": 31,
   "id": "separated-serbia",
   "metadata": {},
   "outputs": [
    {
     "name": "stdout",
     "output_type": "stream",
     "text": [
      "0.015205615974991815\n",
      "618.5075075075075\n"
     ]
    }
   ],
   "source": [
    "T_inf = np.linspace(618, 619, num=1000)\n",
    "\n",
    "q_rad = epsilon*sigma*(T_0**4-T_inf**4)\n",
    "q_conv = h*(T_0-T_inf)\n",
    "\n",
    "q = 15e3 * k\n",
    "\n",
    "q_test = q_rad + q_conv\n",
    "\n",
    "results = []\n",
    "\n",
    "for i in range(len(T_inf)):    \n",
    "    error = m.sqrt((q - q_test[i])**2)\n",
    "    \n",
    "    results.append(error)\n",
    "\n",
    "print(np.min(results))\n",
    "\n",
    "print(T_inf[(np.argmin(results))])"
   ]
  },
  {
   "cell_type": "code",
   "execution_count": null,
   "id": "retired-nightlife",
   "metadata": {},
   "outputs": [],
   "source": []
  }
 ],
 "metadata": {
  "kernelspec": {
   "display_name": "Python 3",
   "language": "python",
   "name": "python3"
  },
  "language_info": {
   "codemirror_mode": {
    "name": "ipython",
    "version": 3
   },
   "file_extension": ".py",
   "mimetype": "text/x-python",
   "name": "python",
   "nbconvert_exporter": "python",
   "pygments_lexer": "ipython3",
   "version": "3.7.6"
  }
 },
 "nbformat": 4,
 "nbformat_minor": 5
}
