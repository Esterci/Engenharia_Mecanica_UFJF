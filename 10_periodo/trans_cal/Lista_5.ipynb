{
 "cells": [
  {
   "cell_type": "code",
   "execution_count": 9,
   "id": "finished-reputation",
   "metadata": {},
   "outputs": [],
   "source": [
    "import numpy as np \n",
    "import math as m\n",
    "import matplotlib.pyplot as plt\n",
    "import sympy\n",
    "\n",
    "def cel_to_kel(D):\n",
    "    K = D + 273.15\n",
    "    return K\n",
    "\n",
    "def kel_to_cel(K):\n",
    "    D = K - 273.15\n",
    "    return D"
   ]
  },
  {
   "cell_type": "markdown",
   "id": "binary-custody",
   "metadata": {},
   "source": [
    "# Useful constants"
   ]
  },
  {
   "cell_type": "code",
   "execution_count": 6,
   "id": "latter-johns",
   "metadata": {},
   "outputs": [],
   "source": [
    "sigma = 5.67*10**(-8)"
   ]
  },
  {
   "cell_type": "markdown",
   "id": "solved-vision",
   "metadata": {},
   "source": [
    "# 5.5"
   ]
  },
  {
   "cell_type": "code",
   "execution_count": 8,
   "id": "blond-speaker",
   "metadata": {},
   "outputs": [
    {
     "name": "stdout",
     "output_type": "stream",
     "text": [
      "Biot = 0.001\n",
      "tempo = 1122.2149876696374\n"
     ]
    }
   ],
   "source": [
    "D = 12e-3\n",
    "Taq = 1150\n",
    "Tref = 400\n",
    "Tinf = 325\n",
    "h = 20 \n",
    "k = 40\n",
    "rho = 7800\n",
    "c = 600\n",
    "\n",
    "Lc = D/2/3\n",
    "\n",
    "Bi = h*Lc/k\n",
    "\n",
    "print('Biot = {}'.format(Bi))\n",
    "\n",
    "V = np.pi * D**3 / 6\n",
    "\n",
    "As = np.pi * D**2\n",
    "\n",
    "theta = Tref - Tinf\n",
    "\n",
    "theta_i = Taq - Tinf\n",
    "\n",
    "t  = (rho*V*c)/(h*As) * np.log(theta_i/theta)\n",
    "\n",
    "print('tempo = {}'.format(t))"
   ]
  },
  {
   "cell_type": "markdown",
   "id": "676c65cd",
   "metadata": {},
   "source": [
    "# 5.16"
   ]
  },
  {
   "cell_type": "code",
   "execution_count": 25,
   "id": "78f1dbac",
   "metadata": {},
   "outputs": [
    {
     "name": "stdout",
     "output_type": "stream",
     "text": [
      "Coeficiente global de trans. cal. = 20.0\n",
      "Biot = 0.0033333333333333335\n",
      "tempo = 3886.187990700701\n",
      "Temperatura superficie externa = 1220.0 K\n"
     ]
    }
   ],
   "source": [
    "k = 60\n",
    "rho = 7850\n",
    "c = 430\n",
    "L = 10e-3\n",
    "R_fx_tc = 0.01\n",
    "Tinf = 1300\n",
    "Ti = 300\n",
    "Tsi = 1200\n",
    "h = 25\n",
    "\n",
    "U = 1/(1/h + R_fx_tc)\n",
    "\n",
    "print('Coeficiente global de trans. cal. = {}'.format(U))\n",
    "\n",
    "Bi = U*L/k\n",
    "\n",
    "print('Biot = {}'.format(Bi))\n",
    "\n",
    "theta = Tsi - Tinf\n",
    "\n",
    "theta_i = Ti - Tinf\n",
    "\n",
    "t  = rho * L * c/ U * np.log(theta_i/theta)\n",
    "\n",
    "print('tempo = {}'.format(t))\n",
    "\n",
    "Tso = (h*Tinf + Tsi/R_fx_tc)/(h+1/R_fx_tc)\n",
    "\n",
    "print('Temperatura superficie externa = {} K'.format(Tso))"
   ]
  },
  {
   "cell_type": "code",
   "execution_count": null,
   "id": "65553337",
   "metadata": {},
   "outputs": [],
   "source": []
  }
 ],
 "metadata": {
  "kernelspec": {
   "display_name": "Python 3",
   "language": "python",
   "name": "python3"
  },
  "language_info": {
   "codemirror_mode": {
    "name": "ipython",
    "version": 3
   },
   "file_extension": ".py",
   "mimetype": "text/x-python",
   "name": "python",
   "nbconvert_exporter": "python",
   "pygments_lexer": "ipython3",
   "version": "3.8.8"
  }
 },
 "nbformat": 4,
 "nbformat_minor": 5
}
