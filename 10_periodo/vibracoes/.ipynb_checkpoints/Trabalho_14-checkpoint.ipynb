{
 "cells": [
  {
   "cell_type": "code",
   "execution_count": 1,
   "id": "industrial-structure",
   "metadata": {},
   "outputs": [],
   "source": [
    "import numpy as np\n",
    "import pandas as pd\n",
    "import math as mt\n",
    "import matplotlib.pyplot as plt\n",
    "import sympy\n",
    "from sklearn.preprocessing import MinMaxScaler"
   ]
  },
  {
   "cell_type": "markdown",
   "id": "d514a479",
   "metadata": {},
   "source": [
    "# Caso 1: Senoide"
   ]
  },
  {
   "cell_type": "code",
   "execution_count": 4,
   "id": "secondary-scope",
   "metadata": {
    "scrolled": false
   },
   "outputs": [
    {
     "name": "stdout",
     "output_type": "stream",
     "text": [
      "Omega1 = 1.16 rad/s\n",
      "Omega2 = 2.77 rad/s\n",
      "rasao_1 = 1.08\n",
      "rasao_2 = -0.33\n"
     ]
    }
   ],
   "source": [
    "m1 = 1.2\n",
    "m2 = 2.7\n",
    "k1 = 10\n",
    "k2 = 20\n",
    "k3 = 15\n",
    "\n",
    "omega_n_1 = (k1/m1)**0.5\n",
    "mr = m2/m1\n",
    "k32 = k3/k2\n",
    "omega_r = (k2/k1)**0.5\n",
    "\n",
    "a1 = 1 + omega_r**2 * (1+mr+k32)\n",
    "a2 = omega_r**2 * (1+k32*(1+omega_r**2 * mr))\n",
    "\n",
    "Omega1 = (0.5*(a1-(a1**2 - 4*a2)**0.5))**0.5\n",
    "\n",
    "Omega2 = (0.5*(a1+(a1**2 - 4*a2)**0.5))**0.5\n",
    "\n",
    "print(\"Omega1 = {:.2f} rad/s\".format(Omega1))\n",
    "\n",
    "print(\"Omega2 = {:.2f} rad/s\".format(Omega2))\n",
    "\n",
    "rasao_1 = mr*omega_r**2/(1+omega_r**2 *mr-Omega1**2)\n",
    "\n",
    "rasao_2 = omega_r**2 *(1+k32) - Omega2**2/(omega_r**2)\n",
    "\n",
    "print(\"rasao_1 = {:.2f}\".format(rasao_1))\n",
    "\n",
    "print(\"rasao_2 = {:.2f}\".format(rasao_2))"
   ]
  }
 ],
 "metadata": {
  "kernelspec": {
   "display_name": "Python 3",
   "language": "python",
   "name": "python3"
  },
  "language_info": {
   "codemirror_mode": {
    "name": "ipython",
    "version": 3
   },
   "file_extension": ".py",
   "mimetype": "text/x-python",
   "name": "python",
   "nbconvert_exporter": "python",
   "pygments_lexer": "ipython3",
   "version": "3.8.8"
  }
 },
 "nbformat": 4,
 "nbformat_minor": 5
}
