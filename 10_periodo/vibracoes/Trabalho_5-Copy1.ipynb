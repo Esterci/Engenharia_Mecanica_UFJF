{
 "cells": [
  {
   "cell_type": "code",
   "execution_count": 3,
   "id": "industrial-structure",
   "metadata": {},
   "outputs": [],
   "source": [
    "import numpy as np\n",
    "import math as mt\n",
    "import matplotlib as plt"
   ]
  },
  {
   "cell_type": "code",
   "execution_count": 4,
   "id": "regular-theta",
   "metadata": {},
   "outputs": [],
   "source": [
    "kica = np.linspace(0,0.6,num=1000)\n",
    "phi = np.arctan(np.sqrt)\n",
    "F_b = np.log((-1)*())"
   ]
  },
  {
   "cell_type": "code",
   "execution_count": 3,
   "id": "ideal-chaos",
   "metadata": {},
   "outputs": [
    {
     "data": {
      "text/plain": [
       "0.1016253400964563"
      ]
     },
     "execution_count": 3,
     "metadata": {},
     "output_type": "execute_result"
    }
   ],
   "source": []
  },
  {
   "cell_type": "code",
   "execution_count": 8,
   "id": "pursuant-settle",
   "metadata": {},
   "outputs": [
    {
     "data": {
      "text/plain": [
       "0.9448449178243407"
      ]
     },
     "execution_count": 8,
     "metadata": {},
     "output_type": "execute_result"
    }
   ],
   "source": []
  },
  {
   "cell_type": "code",
   "execution_count": null,
   "id": "green-pharmacy",
   "metadata": {},
   "outputs": [],
   "source": []
  }
 ],
 "metadata": {
  "kernelspec": {
   "display_name": "Python 3",
   "language": "python",
   "name": "python3"
  },
  "language_info": {
   "codemirror_mode": {
    "name": "ipython",
    "version": 3
   },
   "file_extension": ".py",
   "mimetype": "text/x-python",
   "name": "python",
   "nbconvert_exporter": "python",
   "pygments_lexer": "ipython3",
   "version": "3.7.6"
  }
 },
 "nbformat": 4,
 "nbformat_minor": 5
}
