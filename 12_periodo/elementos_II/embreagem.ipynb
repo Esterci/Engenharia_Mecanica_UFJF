{
 "cells": [
  {
   "cell_type": "code",
   "execution_count": 2,
   "metadata": {},
   "outputs": [],
   "source": [
    "import numpy as np\n",
    "import matplotlib.pyplot as plt\n",
    "from scipy.interpolate import interp1d\n",
    "import pandas as pd"
   ]
  },
  {
   "cell_type": "code",
   "execution_count": 3,
   "metadata": {},
   "outputs": [],
   "source": [
    "P = 7.5e3\n",
    "w = 900/60\n",
    "torque = P/(w * 2 * np.pi)\n",
    "f = 0.45\n",
    "p_max = 2070e3\n",
    "r_pinhao = 50-3\n",
    "\n",
    "# no maximo duas vezes o pinãho\n",
    "\n",
    "# 4 molas ou mais\n",
    "# 1 mm para soltar"
   ]
  },
  {
   "cell_type": "code",
   "execution_count": 5,
   "metadata": {},
   "outputs": [],
   "source": [
    "r_i_list = np.linspace(10e-3,100e-3,num=4)\n",
    "\n",
    "N_result = []\n",
    "r_o_result = []\n",
    "F_result = []\n",
    "\n",
    "for r_i in r_i_list:\n",
    "\n",
    "    N = 2\n",
    "\n",
    "    r_o = r_i * (3)**0.5\n",
    "\n",
    "    while r_o > 2*r_pinhao :\n",
    "\n",
    "        r_o = (torque/(np.pi*p_max*f*r_i*N)+r_i**2)**0.5\n",
    "\n",
    "        N += 2\n",
    "\n",
    "\n",
    "    F = 2*np.pi*p_max*r_i * (r_o-r_i)\n",
    "\n",
    "    r_o_result.append(r_o)\n",
    "    N_result.append(N)\n",
    "    F_result.append(F)"
   ]
  },
  {
   "cell_type": "code",
   "execution_count": null,
   "metadata": {},
   "outputs": [],
   "source": [
    "# plotagem do peso em funcao do diametro\n",
    "\n",
    "fig = plt.figure(figsize=[16, 9])\n",
    "fig.suptitle('Peso em função do diametro do fio', fontsize=16)\n",
    "\n",
    "# Plotando 2D\n",
    "\n",
    "ax = fig.add_subplot(1, 1, 1)\n",
    "\n",
    "ax.plot(d_list,\n",
    "    df['P'],\n",
    "    'o', \n",
    "    d_list, \n",
    "    df['P'], \n",
    "    '-',\n",
    "    color='b',\n",
    ")\n",
    "\n",
    "ax.locator_params(axis='y', nbins=30)\n",
    "ax.locator_params(axis='x', nbins=30)\n",
    "ax.grid()\n",
    "\n",
    "plt.show()"
   ]
  }
 ],
 "metadata": {
  "kernelspec": {
   "display_name": "Python 3.9.7 64-bit ('anaconda3')",
   "language": "python",
   "name": "python3"
  },
  "language_info": {
   "codemirror_mode": {
    "name": "ipython",
    "version": 3
   },
   "file_extension": ".py",
   "mimetype": "text/x-python",
   "name": "python",
   "nbconvert_exporter": "python",
   "pygments_lexer": "ipython3",
   "version": "3.9.7"
  },
  "orig_nbformat": 4,
  "vscode": {
   "interpreter": {
    "hash": "e6157601eeb63a18f61641a491f195cf8e488a820ce227575a48fad5ebb00d16"
   }
  }
 },
 "nbformat": 4,
 "nbformat_minor": 2
}
